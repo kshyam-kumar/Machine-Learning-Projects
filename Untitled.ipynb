{
 "cells": [
  {
   "cell_type": "code",
   "execution_count": 12,
   "id": "98953d64-5056-4054-9c56-28849b76bf54",
   "metadata": {},
   "outputs": [
    {
     "name": "stdout",
     "output_type": "stream",
     "text": [
      "Requirement already satisfied: adversarial-robustness-toolbox in c:\\users\\priya\\appdata\\local\\programs\\python\\python312\\lib\\site-packages (1.18.1)\n",
      "Requirement already satisfied: numpy>=1.18.0 in c:\\users\\priya\\appdata\\local\\programs\\python\\python312\\lib\\site-packages (from adversarial-robustness-toolbox) (1.26.4)\n",
      "Requirement already satisfied: scipy>=1.4.1 in c:\\users\\priya\\appdata\\local\\programs\\python\\python312\\lib\\site-packages (from adversarial-robustness-toolbox) (1.14.1)\n",
      "Requirement already satisfied: scikit-learn>=0.22.2 in c:\\users\\priya\\appdata\\local\\programs\\python\\python312\\lib\\site-packages (from adversarial-robustness-toolbox) (1.5.2)\n",
      "Requirement already satisfied: six in c:\\users\\priya\\appdata\\local\\programs\\python\\python312\\lib\\site-packages (from adversarial-robustness-toolbox) (1.16.0)\n",
      "Requirement already satisfied: setuptools in c:\\users\\priya\\appdata\\local\\programs\\python\\python312\\lib\\site-packages (from adversarial-robustness-toolbox) (74.1.2)\n",
      "Requirement already satisfied: tqdm in c:\\users\\priya\\appdata\\local\\programs\\python\\python312\\lib\\site-packages (from adversarial-robustness-toolbox) (4.66.5)\n",
      "Requirement already satisfied: joblib>=1.2.0 in c:\\users\\priya\\appdata\\local\\programs\\python\\python312\\lib\\site-packages (from scikit-learn>=0.22.2->adversarial-robustness-toolbox) (1.4.2)\n",
      "Requirement already satisfied: threadpoolctl>=3.1.0 in c:\\users\\priya\\appdata\\local\\programs\\python\\python312\\lib\\site-packages (from scikit-learn>=0.22.2->adversarial-robustness-toolbox) (3.5.0)\n",
      "Requirement already satisfied: colorama in c:\\users\\priya\\appdata\\local\\programs\\python\\python312\\lib\\site-packages (from tqdm->adversarial-robustness-toolbox) (0.4.6)\n",
      "Note: you may need to restart the kernel to use updated packages.\n"
     ]
    }
   ],
   "source": [
    "pip install adversarial-robustness-toolbox"
   ]
  },
  {
   "cell_type": "code",
   "execution_count": 13,
   "id": "20284aa6-426a-46b3-851b-8c71f0f9ea16",
   "metadata": {},
   "outputs": [
    {
     "name": "stdout",
     "output_type": "stream",
     "text": [
      "Requirement already satisfied: OpenAttack in c:\\users\\priya\\appdata\\local\\programs\\python\\python312\\lib\\site-packages (2.1.1)\n",
      "Requirement already satisfied: nltk>=3.5 in c:\\users\\priya\\appdata\\local\\programs\\python\\python312\\lib\\site-packages (from OpenAttack) (3.9.1)\n",
      "Requirement already satisfied: numpy in c:\\users\\priya\\appdata\\local\\programs\\python\\python312\\lib\\site-packages (from OpenAttack) (1.26.4)\n",
      "Requirement already satisfied: datasets in c:\\users\\priya\\appdata\\local\\programs\\python\\python312\\lib\\site-packages (from OpenAttack) (3.0.0)\n",
      "Requirement already satisfied: tqdm in c:\\users\\priya\\appdata\\local\\programs\\python\\python312\\lib\\site-packages (from OpenAttack) (4.66.5)\n",
      "Requirement already satisfied: transformers>=4.0.0 in c:\\users\\priya\\appdata\\local\\programs\\python\\python312\\lib\\site-packages (from OpenAttack) (4.44.2)\n",
      "Requirement already satisfied: torch>=1.5.1 in c:\\users\\priya\\appdata\\local\\programs\\python\\python312\\lib\\site-packages (from OpenAttack) (2.4.1)\n",
      "Requirement already satisfied: click in c:\\users\\priya\\appdata\\local\\programs\\python\\python312\\lib\\site-packages (from nltk>=3.5->OpenAttack) (8.1.7)\n",
      "Requirement already satisfied: joblib in c:\\users\\priya\\appdata\\local\\programs\\python\\python312\\lib\\site-packages (from nltk>=3.5->OpenAttack) (1.4.2)\n",
      "Requirement already satisfied: regex>=2021.8.3 in c:\\users\\priya\\appdata\\local\\programs\\python\\python312\\lib\\site-packages (from nltk>=3.5->OpenAttack) (2024.9.11)\n",
      "Requirement already satisfied: filelock in c:\\users\\priya\\appdata\\local\\programs\\python\\python312\\lib\\site-packages (from torch>=1.5.1->OpenAttack) (3.16.1)\n",
      "Requirement already satisfied: typing-extensions>=4.8.0 in c:\\users\\priya\\appdata\\local\\programs\\python\\python312\\lib\\site-packages (from torch>=1.5.1->OpenAttack) (4.12.2)\n",
      "Requirement already satisfied: sympy in c:\\users\\priya\\appdata\\local\\programs\\python\\python312\\lib\\site-packages (from torch>=1.5.1->OpenAttack) (1.13.3)\n",
      "Requirement already satisfied: networkx in c:\\users\\priya\\appdata\\local\\programs\\python\\python312\\lib\\site-packages (from torch>=1.5.1->OpenAttack) (3.3)\n",
      "Requirement already satisfied: jinja2 in c:\\users\\priya\\appdata\\local\\programs\\python\\python312\\lib\\site-packages (from torch>=1.5.1->OpenAttack) (3.1.4)\n",
      "Requirement already satisfied: fsspec in c:\\users\\priya\\appdata\\local\\programs\\python\\python312\\lib\\site-packages (from torch>=1.5.1->OpenAttack) (2024.6.1)\n",
      "Requirement already satisfied: setuptools in c:\\users\\priya\\appdata\\local\\programs\\python\\python312\\lib\\site-packages (from torch>=1.5.1->OpenAttack) (74.1.2)\n",
      "Requirement already satisfied: huggingface-hub<1.0,>=0.23.2 in c:\\users\\priya\\appdata\\local\\programs\\python\\python312\\lib\\site-packages (from transformers>=4.0.0->OpenAttack) (0.25.0)\n",
      "Requirement already satisfied: packaging>=20.0 in c:\\users\\priya\\appdata\\local\\programs\\python\\python312\\lib\\site-packages (from transformers>=4.0.0->OpenAttack) (24.1)\n",
      "Requirement already satisfied: pyyaml>=5.1 in c:\\users\\priya\\appdata\\local\\programs\\python\\python312\\lib\\site-packages (from transformers>=4.0.0->OpenAttack) (6.0.2)\n",
      "Requirement already satisfied: requests in c:\\users\\priya\\appdata\\local\\programs\\python\\python312\\lib\\site-packages (from transformers>=4.0.0->OpenAttack) (2.32.3)\n",
      "Requirement already satisfied: safetensors>=0.4.1 in c:\\users\\priya\\appdata\\local\\programs\\python\\python312\\lib\\site-packages (from transformers>=4.0.0->OpenAttack) (0.4.5)\n",
      "Requirement already satisfied: tokenizers<0.20,>=0.19 in c:\\users\\priya\\appdata\\local\\programs\\python\\python312\\lib\\site-packages (from transformers>=4.0.0->OpenAttack) (0.19.1)\n",
      "Requirement already satisfied: colorama in c:\\users\\priya\\appdata\\local\\programs\\python\\python312\\lib\\site-packages (from tqdm->OpenAttack) (0.4.6)\n",
      "Requirement already satisfied: pyarrow>=15.0.0 in c:\\users\\priya\\appdata\\local\\programs\\python\\python312\\lib\\site-packages (from datasets->OpenAttack) (17.0.0)\n",
      "Requirement already satisfied: dill<0.3.9,>=0.3.0 in c:\\users\\priya\\appdata\\local\\programs\\python\\python312\\lib\\site-packages (from datasets->OpenAttack) (0.3.8)\n",
      "Requirement already satisfied: pandas in c:\\users\\priya\\appdata\\local\\programs\\python\\python312\\lib\\site-packages (from datasets->OpenAttack) (2.2.2)\n",
      "Requirement already satisfied: xxhash in c:\\users\\priya\\appdata\\local\\programs\\python\\python312\\lib\\site-packages (from datasets->OpenAttack) (3.5.0)\n",
      "Requirement already satisfied: multiprocess in c:\\users\\priya\\appdata\\local\\programs\\python\\python312\\lib\\site-packages (from datasets->OpenAttack) (0.70.16)\n",
      "Requirement already satisfied: aiohttp in c:\\users\\priya\\appdata\\local\\programs\\python\\python312\\lib\\site-packages (from datasets->OpenAttack) (3.10.5)\n",
      "Requirement already satisfied: aiohappyeyeballs>=2.3.0 in c:\\users\\priya\\appdata\\local\\programs\\python\\python312\\lib\\site-packages (from aiohttp->datasets->OpenAttack) (2.4.0)\n",
      "Requirement already satisfied: aiosignal>=1.1.2 in c:\\users\\priya\\appdata\\local\\programs\\python\\python312\\lib\\site-packages (from aiohttp->datasets->OpenAttack) (1.3.1)\n",
      "Requirement already satisfied: attrs>=17.3.0 in c:\\users\\priya\\appdata\\local\\programs\\python\\python312\\lib\\site-packages (from aiohttp->datasets->OpenAttack) (24.2.0)\n",
      "Requirement already satisfied: frozenlist>=1.1.1 in c:\\users\\priya\\appdata\\local\\programs\\python\\python312\\lib\\site-packages (from aiohttp->datasets->OpenAttack) (1.4.1)\n",
      "Requirement already satisfied: multidict<7.0,>=4.5 in c:\\users\\priya\\appdata\\local\\programs\\python\\python312\\lib\\site-packages (from aiohttp->datasets->OpenAttack) (6.1.0)\n",
      "Requirement already satisfied: yarl<2.0,>=1.0 in c:\\users\\priya\\appdata\\local\\programs\\python\\python312\\lib\\site-packages (from aiohttp->datasets->OpenAttack) (1.11.1)\n",
      "Requirement already satisfied: charset-normalizer<4,>=2 in c:\\users\\priya\\appdata\\local\\programs\\python\\python312\\lib\\site-packages (from requests->transformers>=4.0.0->OpenAttack) (3.3.2)\n",
      "Requirement already satisfied: idna<4,>=2.5 in c:\\users\\priya\\appdata\\local\\programs\\python\\python312\\lib\\site-packages (from requests->transformers>=4.0.0->OpenAttack) (3.8)\n",
      "Requirement already satisfied: urllib3<3,>=1.21.1 in c:\\users\\priya\\appdata\\local\\programs\\python\\python312\\lib\\site-packages (from requests->transformers>=4.0.0->OpenAttack) (2.2.2)\n",
      "Requirement already satisfied: certifi>=2017.4.17 in c:\\users\\priya\\appdata\\local\\programs\\python\\python312\\lib\\site-packages (from requests->transformers>=4.0.0->OpenAttack) (2024.8.30)\n",
      "Requirement already satisfied: MarkupSafe>=2.0 in c:\\users\\priya\\appdata\\local\\programs\\python\\python312\\lib\\site-packages (from jinja2->torch>=1.5.1->OpenAttack) (2.1.5)\n",
      "Requirement already satisfied: python-dateutil>=2.8.2 in c:\\users\\priya\\appdata\\local\\programs\\python\\python312\\lib\\site-packages (from pandas->datasets->OpenAttack) (2.9.0.post0)\n",
      "Requirement already satisfied: pytz>=2020.1 in c:\\users\\priya\\appdata\\local\\programs\\python\\python312\\lib\\site-packages (from pandas->datasets->OpenAttack) (2024.2)\n",
      "Requirement already satisfied: tzdata>=2022.7 in c:\\users\\priya\\appdata\\local\\programs\\python\\python312\\lib\\site-packages (from pandas->datasets->OpenAttack) (2024.1)\n",
      "Requirement already satisfied: mpmath<1.4,>=1.1.0 in c:\\users\\priya\\appdata\\local\\programs\\python\\python312\\lib\\site-packages (from sympy->torch>=1.5.1->OpenAttack) (1.3.0)\n",
      "Requirement already satisfied: six>=1.5 in c:\\users\\priya\\appdata\\local\\programs\\python\\python312\\lib\\site-packages (from python-dateutil>=2.8.2->pandas->datasets->OpenAttack) (1.16.0)\n",
      "Note: you may need to restart the kernel to use updated packages.\n"
     ]
    }
   ],
   "source": [
    " pip install OpenAttack"
   ]
  },
  {
   "cell_type": "code",
   "execution_count": 14,
   "id": "4df925e6-cf4b-4f0c-98bf-dc278bd9386e",
   "metadata": {},
   "outputs": [
    {
     "name": "stdout",
     "output_type": "stream",
     "text": [
      "hello\n"
     ]
    }
   ],
   "source": [
    "print(\"hello\")"
   ]
  },
  {
   "cell_type": "code",
   "execution_count": 15,
   "id": "a2fda414-076d-4b08-b2ad-aa14116277e5",
   "metadata": {},
   "outputs": [
    {
     "name": "stderr",
     "output_type": "stream",
     "text": [
      "textattack: Updating TextAttack package dependencies.\n",
      "textattack: Downloading NLTK required packages.\n",
      "[nltk_data] Downloading package averaged_perceptron_tagger to\n",
      "[nltk_data]     C:\\Users\\PRIYA\\AppData\\Roaming\\nltk_data...\n",
      "[nltk_data]   Unzipping taggers\\averaged_perceptron_tagger.zip.\n",
      "[nltk_data] Downloading package stopwords to\n",
      "[nltk_data]     C:\\Users\\PRIYA\\AppData\\Roaming\\nltk_data...\n",
      "[nltk_data]   Unzipping corpora\\stopwords.zip.\n",
      "[nltk_data] Downloading package omw to\n",
      "[nltk_data]     C:\\Users\\PRIYA\\AppData\\Roaming\\nltk_data...\n",
      "[nltk_data] Downloading package universal_tagset to\n",
      "[nltk_data]     C:\\Users\\PRIYA\\AppData\\Roaming\\nltk_data...\n",
      "[nltk_data]   Unzipping taggers\\universal_tagset.zip.\n",
      "[nltk_data] Downloading package wordnet to\n",
      "[nltk_data]     C:\\Users\\PRIYA\\AppData\\Roaming\\nltk_data...\n",
      "[nltk_data]   Package wordnet is already up-to-date!\n",
      "[nltk_data] Downloading package punkt to\n",
      "[nltk_data]     C:\\Users\\PRIYA\\AppData\\Roaming\\nltk_data...\n",
      "[nltk_data]   Unzipping tokenizers\\punkt.zip.\n"
     ]
    }
   ],
   "source": [
    "import textattack\n",
    "from textattack.attack_recipes import TextFoolerJin2019\n",
    "from transformers import AutoModelForSequenceClassification, AutoTokenizer"
   ]
  },
  {
   "cell_type": "code",
   "execution_count": null,
   "id": "6d7ba9c2-edd6-458c-8204-bcb88072bf78",
   "metadata": {},
   "outputs": [],
   "source": []
  }
 ],
 "metadata": {
  "kernelspec": {
   "display_name": "Python 3 (ipykernel)",
   "language": "python",
   "name": "python3"
  },
  "language_info": {
   "codemirror_mode": {
    "name": "ipython",
    "version": 3
   },
   "file_extension": ".py",
   "mimetype": "text/x-python",
   "name": "python",
   "nbconvert_exporter": "python",
   "pygments_lexer": "ipython3",
   "version": "3.12.6"
  }
 },
 "nbformat": 4,
 "nbformat_minor": 5
}
